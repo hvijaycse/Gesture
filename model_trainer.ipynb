{
 "cells": [
  {
   "cell_type": "code",
   "execution_count": 1,
   "metadata": {
    "scrolled": true
   },
   "outputs": [],
   "source": [
    "import pandas as pd\n",
    "from sklearn.model_selection import train_test_split\n",
    "from modelHandler.classification import classification\n",
    "\n",
    "from config import get_config"
   ]
  },
  {
   "cell_type": "code",
   "execution_count": 2,
   "metadata": {},
   "outputs": [],
   "source": [
    "config = get_config()\n",
    "\n",
    "if config is None:\n",
    "    print(\"Error in loading config\")\n",
    "    exit(1)"
   ]
  },
  {
   "cell_type": "code",
   "execution_count": 2,
   "metadata": {},
   "outputs": [],
   "source": [
    "data_filename = config['data_filename']\n",
    "\n",
    "df = pd.read_csv(data_filename)"
   ]
  },
  {
   "cell_type": "code",
   "execution_count": 3,
   "metadata": {},
   "outputs": [
    {
     "output_type": "execute_result",
     "data": {
      "text/plain": [
       "  Class        x0        y0        z0        x1        y1        z1        x2  \\\n",
       "0  Idle  0.786796  0.577150  0.115430  0.709950  0.577456  0.115491  0.650219   \n",
       "1  Idle  0.779948  0.576534  0.115307  0.708210  0.554418  0.110884  0.645107   \n",
       "2  Idle  0.767243  0.551988  0.110398  0.695155  0.527266  0.105453  0.632155   \n",
       "3  Idle  0.760346  0.537077  0.107415  0.688991  0.513563  0.102713  0.627382   \n",
       "4  Idle  0.748377  0.534202  0.106840  0.678455  0.511702  0.102340  0.618582   \n",
       "\n",
       "         y2        z2  ...       xz7       x18       y18       xz8       x19  \\\n",
       "0  0.505047  0.101009  ...  0.069796  0.846396  0.251107  0.050221  0.854599   \n",
       "1  0.476407  0.095281  ...  0.057798  0.812656  0.201072  0.040214  0.817781   \n",
       "2  0.450202  0.090040  ...  0.053778  0.791888  0.188215  0.037643  0.794474   \n",
       "3  0.438035  0.087607  ...  0.051791  0.779966  0.176823  0.035365  0.781542   \n",
       "4  0.433393  0.086679  ...  0.053269  0.768897  0.184995  0.036999  0.770385   \n",
       "\n",
       "        y19       xz9       x20       y20     xz0.1  \n",
       "0  0.192672  0.038534  0.856386  0.139195  0.027839  \n",
       "1  0.150189  0.030038  0.819031  0.107402  0.021480  \n",
       "2  0.139420  0.027884  0.792905  0.095832  0.019166  \n",
       "3  0.127742  0.025548  0.780194  0.084989  0.016998  \n",
       "4  0.137163  0.027433  0.769226  0.094693  0.018939  \n",
       "\n",
       "[5 rows x 64 columns]"
      ],
      "text/html": "<div>\n<style scoped>\n    .dataframe tbody tr th:only-of-type {\n        vertical-align: middle;\n    }\n\n    .dataframe tbody tr th {\n        vertical-align: top;\n    }\n\n    .dataframe thead th {\n        text-align: right;\n    }\n</style>\n<table border=\"1\" class=\"dataframe\">\n  <thead>\n    <tr style=\"text-align: right;\">\n      <th></th>\n      <th>Class</th>\n      <th>x0</th>\n      <th>y0</th>\n      <th>z0</th>\n      <th>x1</th>\n      <th>y1</th>\n      <th>z1</th>\n      <th>x2</th>\n      <th>y2</th>\n      <th>z2</th>\n      <th>...</th>\n      <th>xz7</th>\n      <th>x18</th>\n      <th>y18</th>\n      <th>xz8</th>\n      <th>x19</th>\n      <th>y19</th>\n      <th>xz9</th>\n      <th>x20</th>\n      <th>y20</th>\n      <th>xz0.1</th>\n    </tr>\n  </thead>\n  <tbody>\n    <tr>\n      <th>0</th>\n      <td>Idle</td>\n      <td>0.786796</td>\n      <td>0.577150</td>\n      <td>0.115430</td>\n      <td>0.709950</td>\n      <td>0.577456</td>\n      <td>0.115491</td>\n      <td>0.650219</td>\n      <td>0.505047</td>\n      <td>0.101009</td>\n      <td>...</td>\n      <td>0.069796</td>\n      <td>0.846396</td>\n      <td>0.251107</td>\n      <td>0.050221</td>\n      <td>0.854599</td>\n      <td>0.192672</td>\n      <td>0.038534</td>\n      <td>0.856386</td>\n      <td>0.139195</td>\n      <td>0.027839</td>\n    </tr>\n    <tr>\n      <th>1</th>\n      <td>Idle</td>\n      <td>0.779948</td>\n      <td>0.576534</td>\n      <td>0.115307</td>\n      <td>0.708210</td>\n      <td>0.554418</td>\n      <td>0.110884</td>\n      <td>0.645107</td>\n      <td>0.476407</td>\n      <td>0.095281</td>\n      <td>...</td>\n      <td>0.057798</td>\n      <td>0.812656</td>\n      <td>0.201072</td>\n      <td>0.040214</td>\n      <td>0.817781</td>\n      <td>0.150189</td>\n      <td>0.030038</td>\n      <td>0.819031</td>\n      <td>0.107402</td>\n      <td>0.021480</td>\n    </tr>\n    <tr>\n      <th>2</th>\n      <td>Idle</td>\n      <td>0.767243</td>\n      <td>0.551988</td>\n      <td>0.110398</td>\n      <td>0.695155</td>\n      <td>0.527266</td>\n      <td>0.105453</td>\n      <td>0.632155</td>\n      <td>0.450202</td>\n      <td>0.090040</td>\n      <td>...</td>\n      <td>0.053778</td>\n      <td>0.791888</td>\n      <td>0.188215</td>\n      <td>0.037643</td>\n      <td>0.794474</td>\n      <td>0.139420</td>\n      <td>0.027884</td>\n      <td>0.792905</td>\n      <td>0.095832</td>\n      <td>0.019166</td>\n    </tr>\n    <tr>\n      <th>3</th>\n      <td>Idle</td>\n      <td>0.760346</td>\n      <td>0.537077</td>\n      <td>0.107415</td>\n      <td>0.688991</td>\n      <td>0.513563</td>\n      <td>0.102713</td>\n      <td>0.627382</td>\n      <td>0.438035</td>\n      <td>0.087607</td>\n      <td>...</td>\n      <td>0.051791</td>\n      <td>0.779966</td>\n      <td>0.176823</td>\n      <td>0.035365</td>\n      <td>0.781542</td>\n      <td>0.127742</td>\n      <td>0.025548</td>\n      <td>0.780194</td>\n      <td>0.084989</td>\n      <td>0.016998</td>\n    </tr>\n    <tr>\n      <th>4</th>\n      <td>Idle</td>\n      <td>0.748377</td>\n      <td>0.534202</td>\n      <td>0.106840</td>\n      <td>0.678455</td>\n      <td>0.511702</td>\n      <td>0.102340</td>\n      <td>0.618582</td>\n      <td>0.433393</td>\n      <td>0.086679</td>\n      <td>...</td>\n      <td>0.053269</td>\n      <td>0.768897</td>\n      <td>0.184995</td>\n      <td>0.036999</td>\n      <td>0.770385</td>\n      <td>0.137163</td>\n      <td>0.027433</td>\n      <td>0.769226</td>\n      <td>0.094693</td>\n      <td>0.018939</td>\n    </tr>\n  </tbody>\n</table>\n<p>5 rows × 64 columns</p>\n</div>"
     },
     "metadata": {},
     "execution_count": 3
    }
   ],
   "source": [
    "df.head()"
   ]
  },
  {
   "cell_type": "code",
   "execution_count": 4,
   "metadata": {},
   "outputs": [],
   "source": [
    "label = df['Class']\n",
    "features = df.drop('Class', axis=1)\n",
    "\n",
    "print('Class: ',label.unique())\n"
   ]
  },
  {
   "cell_type": "code",
   "execution_count": 5,
   "metadata": {},
   "outputs": [
    {
     "output_type": "stream",
     "name": "stdout",
     "text": [
      "Class:  ['Idle' 'Cursor' 'Scroll' 'LeftMouseDown' 'LeftMouseDoubleClick']\n"
     ]
    }
   ],
   "source": []
  },
  {
   "cell_type": "code",
   "execution_count": 6,
   "metadata": {},
   "outputs": [
    {
     "output_type": "execute_result",
     "data": {
      "text/plain": [
       "         x0        y0        z0        x1        y1        z1        x2  \\\n",
       "0  0.786796  0.577150  0.115430  0.709950  0.577456  0.115491  0.650219   \n",
       "1  0.779948  0.576534  0.115307  0.708210  0.554418  0.110884  0.645107   \n",
       "2  0.767243  0.551988  0.110398  0.695155  0.527266  0.105453  0.632155   \n",
       "3  0.760346  0.537077  0.107415  0.688991  0.513563  0.102713  0.627382   \n",
       "4  0.748377  0.534202  0.106840  0.678455  0.511702  0.102340  0.618582   \n",
       "\n",
       "         y2        z2        x3  ...       xz7       x18       y18       xz8  \\\n",
       "0  0.505047  0.101009  0.612551  ...  0.069796  0.846396  0.251107  0.050221   \n",
       "1  0.476407  0.095281  0.602942  ...  0.057798  0.812656  0.201072  0.040214   \n",
       "2  0.450202  0.090040  0.590568  ...  0.053778  0.791888  0.188215  0.037643   \n",
       "3  0.438035  0.087607  0.584371  ...  0.051791  0.779966  0.176823  0.035365   \n",
       "4  0.433393  0.086679  0.575424  ...  0.053269  0.768897  0.184995  0.036999   \n",
       "\n",
       "        x19       y19       xz9       x20       y20     xz0.1  \n",
       "0  0.854599  0.192672  0.038534  0.856386  0.139195  0.027839  \n",
       "1  0.817781  0.150189  0.030038  0.819031  0.107402  0.021480  \n",
       "2  0.794474  0.139420  0.027884  0.792905  0.095832  0.019166  \n",
       "3  0.781542  0.127742  0.025548  0.780194  0.084989  0.016998  \n",
       "4  0.770385  0.137163  0.027433  0.769226  0.094693  0.018939  \n",
       "\n",
       "[5 rows x 63 columns]"
      ],
      "text/html": "<div>\n<style scoped>\n    .dataframe tbody tr th:only-of-type {\n        vertical-align: middle;\n    }\n\n    .dataframe tbody tr th {\n        vertical-align: top;\n    }\n\n    .dataframe thead th {\n        text-align: right;\n    }\n</style>\n<table border=\"1\" class=\"dataframe\">\n  <thead>\n    <tr style=\"text-align: right;\">\n      <th></th>\n      <th>x0</th>\n      <th>y0</th>\n      <th>z0</th>\n      <th>x1</th>\n      <th>y1</th>\n      <th>z1</th>\n      <th>x2</th>\n      <th>y2</th>\n      <th>z2</th>\n      <th>x3</th>\n      <th>...</th>\n      <th>xz7</th>\n      <th>x18</th>\n      <th>y18</th>\n      <th>xz8</th>\n      <th>x19</th>\n      <th>y19</th>\n      <th>xz9</th>\n      <th>x20</th>\n      <th>y20</th>\n      <th>xz0.1</th>\n    </tr>\n  </thead>\n  <tbody>\n    <tr>\n      <th>0</th>\n      <td>0.786796</td>\n      <td>0.577150</td>\n      <td>0.115430</td>\n      <td>0.709950</td>\n      <td>0.577456</td>\n      <td>0.115491</td>\n      <td>0.650219</td>\n      <td>0.505047</td>\n      <td>0.101009</td>\n      <td>0.612551</td>\n      <td>...</td>\n      <td>0.069796</td>\n      <td>0.846396</td>\n      <td>0.251107</td>\n      <td>0.050221</td>\n      <td>0.854599</td>\n      <td>0.192672</td>\n      <td>0.038534</td>\n      <td>0.856386</td>\n      <td>0.139195</td>\n      <td>0.027839</td>\n    </tr>\n    <tr>\n      <th>1</th>\n      <td>0.779948</td>\n      <td>0.576534</td>\n      <td>0.115307</td>\n      <td>0.708210</td>\n      <td>0.554418</td>\n      <td>0.110884</td>\n      <td>0.645107</td>\n      <td>0.476407</td>\n      <td>0.095281</td>\n      <td>0.602942</td>\n      <td>...</td>\n      <td>0.057798</td>\n      <td>0.812656</td>\n      <td>0.201072</td>\n      <td>0.040214</td>\n      <td>0.817781</td>\n      <td>0.150189</td>\n      <td>0.030038</td>\n      <td>0.819031</td>\n      <td>0.107402</td>\n      <td>0.021480</td>\n    </tr>\n    <tr>\n      <th>2</th>\n      <td>0.767243</td>\n      <td>0.551988</td>\n      <td>0.110398</td>\n      <td>0.695155</td>\n      <td>0.527266</td>\n      <td>0.105453</td>\n      <td>0.632155</td>\n      <td>0.450202</td>\n      <td>0.090040</td>\n      <td>0.590568</td>\n      <td>...</td>\n      <td>0.053778</td>\n      <td>0.791888</td>\n      <td>0.188215</td>\n      <td>0.037643</td>\n      <td>0.794474</td>\n      <td>0.139420</td>\n      <td>0.027884</td>\n      <td>0.792905</td>\n      <td>0.095832</td>\n      <td>0.019166</td>\n    </tr>\n    <tr>\n      <th>3</th>\n      <td>0.760346</td>\n      <td>0.537077</td>\n      <td>0.107415</td>\n      <td>0.688991</td>\n      <td>0.513563</td>\n      <td>0.102713</td>\n      <td>0.627382</td>\n      <td>0.438035</td>\n      <td>0.087607</td>\n      <td>0.584371</td>\n      <td>...</td>\n      <td>0.051791</td>\n      <td>0.779966</td>\n      <td>0.176823</td>\n      <td>0.035365</td>\n      <td>0.781542</td>\n      <td>0.127742</td>\n      <td>0.025548</td>\n      <td>0.780194</td>\n      <td>0.084989</td>\n      <td>0.016998</td>\n    </tr>\n    <tr>\n      <th>4</th>\n      <td>0.748377</td>\n      <td>0.534202</td>\n      <td>0.106840</td>\n      <td>0.678455</td>\n      <td>0.511702</td>\n      <td>0.102340</td>\n      <td>0.618582</td>\n      <td>0.433393</td>\n      <td>0.086679</td>\n      <td>0.575424</td>\n      <td>...</td>\n      <td>0.053269</td>\n      <td>0.768897</td>\n      <td>0.184995</td>\n      <td>0.036999</td>\n      <td>0.770385</td>\n      <td>0.137163</td>\n      <td>0.027433</td>\n      <td>0.769226</td>\n      <td>0.094693</td>\n      <td>0.018939</td>\n    </tr>\n  </tbody>\n</table>\n<p>5 rows × 63 columns</p>\n</div>"
     },
     "metadata": {},
     "execution_count": 6
    }
   ],
   "source": [
    "features.head()"
   ]
  },
  {
   "cell_type": "code",
   "execution_count": 7,
   "metadata": {},
   "outputs": [],
   "source": [
    "x_train, x_test, y_train, y_test = train_test_split(features, label, test_size = 0.2)"
   ]
  },
  {
   "cell_type": "code",
   "execution_count": 8,
   "metadata": {},
   "outputs": [],
   "source": [
    "model_list = ['SVC', 'KNN', 'LR', 'DTC']"
   ]
  },
  {
   "cell_type": "code",
   "execution_count": 9,
   "metadata": {},
   "outputs": [],
   "source": [
    "handler = classification(model_list=model_list)"
   ]
  },
  {
   "cell_type": "code",
   "execution_count": 10,
   "metadata": {},
   "outputs": [
    {
     "output_type": "stream",
     "name": "stdout",
     "text": [
      "\n",
      "Model: SVC\n",
      "\n",
      "Prameters : {'C': 1, 'gamma': 'scale', 'kernel': 'poly'}\n",
      "Score : 0.9957142857142858\n",
      "\n",
      "0.223 (+/-0.003) for {'C': 0.001, 'gamma': 'scale', 'kernel': 'linear'}\n",
      "0.433 (+/-0.041) for {'C': 0.001, 'gamma': 'scale', 'kernel': 'poly'}\n",
      "0.223 (+/-0.003) for {'C': 0.001, 'gamma': 'scale', 'kernel': 'rbf'}\n",
      "0.223 (+/-0.003) for {'C': 0.001, 'gamma': 'auto', 'kernel': 'linear'}\n",
      "0.223 (+/-0.003) for {'C': 0.001, 'gamma': 'auto', 'kernel': 'poly'}\n",
      "0.223 (+/-0.003) for {'C': 0.001, 'gamma': 'auto', 'kernel': 'rbf'}\n",
      "0.223 (+/-0.003) for {'C': 0.01, 'gamma': 'scale', 'kernel': 'linear'}\n",
      "0.932 (+/-0.037) for {'C': 0.01, 'gamma': 'scale', 'kernel': 'poly'}\n",
      "0.307 (+/-0.018) for {'C': 0.01, 'gamma': 'scale', 'kernel': 'rbf'}\n",
      "0.223 (+/-0.003) for {'C': 0.01, 'gamma': 'auto', 'kernel': 'linear'}\n",
      "0.223 (+/-0.003) for {'C': 0.01, 'gamma': 'auto', 'kernel': 'poly'}\n",
      "0.223 (+/-0.003) for {'C': 0.01, 'gamma': 'auto', 'kernel': 'rbf'}\n",
      "0.391 (+/-0.045) for {'C': 0.1, 'gamma': 'scale', 'kernel': 'linear'}\n",
      "0.981 (+/-0.006) for {'C': 0.1, 'gamma': 'scale', 'kernel': 'poly'}\n",
      "0.764 (+/-0.051) for {'C': 0.1, 'gamma': 'scale', 'kernel': 'rbf'}\n",
      "0.391 (+/-0.045) for {'C': 0.1, 'gamma': 'auto', 'kernel': 'linear'}\n",
      "0.223 (+/-0.003) for {'C': 0.1, 'gamma': 'auto', 'kernel': 'poly'}\n",
      "0.223 (+/-0.003) for {'C': 0.1, 'gamma': 'auto', 'kernel': 'rbf'}\n",
      "0.908 (+/-0.049) for {'C': 1, 'gamma': 'scale', 'kernel': 'linear'}\n",
      "0.996 (+/-0.008) for {'C': 1, 'gamma': 'scale', 'kernel': 'poly'}\n",
      "0.969 (+/-0.024) for {'C': 1, 'gamma': 'scale', 'kernel': 'rbf'}\n",
      "0.908 (+/-0.049) for {'C': 1, 'gamma': 'auto', 'kernel': 'linear'}\n",
      "0.223 (+/-0.003) for {'C': 1, 'gamma': 'auto', 'kernel': 'poly'}\n",
      "0.243 (+/-0.005) for {'C': 1, 'gamma': 'auto', 'kernel': 'rbf'}\n",
      "\n",
      "####################\n",
      "\n",
      "Model: KNN\n",
      "\n",
      "Prameters : {'n_neighbors': 1, 'weights': 'uniform'}\n",
      "Score : 0.9957142857142858\n",
      "\n",
      "0.996 (+/-0.007) for {'n_neighbors': 1, 'weights': 'uniform'}\n",
      "0.996 (+/-0.007) for {'n_neighbors': 1, 'weights': 'distance'}\n",
      "0.987 (+/-0.015) for {'n_neighbors': 3, 'weights': 'uniform'}\n",
      "0.988 (+/-0.013) for {'n_neighbors': 3, 'weights': 'distance'}\n",
      "0.983 (+/-0.014) for {'n_neighbors': 5, 'weights': 'uniform'}\n",
      "0.987 (+/-0.012) for {'n_neighbors': 5, 'weights': 'distance'}\n",
      "0.975 (+/-0.022) for {'n_neighbors': 10, 'weights': 'uniform'}\n",
      "0.980 (+/-0.017) for {'n_neighbors': 10, 'weights': 'distance'}\n",
      "0.960 (+/-0.031) for {'n_neighbors': 20, 'weights': 'uniform'}\n",
      "0.972 (+/-0.023) for {'n_neighbors': 20, 'weights': 'distance'}\n",
      "\n",
      "####################\n",
      "\n",
      "Model: LR\n",
      "\n",
      "Prameters : {'C': 1}\n",
      "Score : 0.8892857142857142\n",
      "\n",
      "0.223 (+/-0.003) for {'C': 0.001}\n",
      "0.269 (+/-0.028) for {'C': 0.01}\n",
      "0.513 (+/-0.018) for {'C': 0.1}\n",
      "0.889 (+/-0.052) for {'C': 1}\n",
      "\n",
      "####################\n",
      "\n",
      "Model: DTC\n",
      "\n",
      "Prameters : {'criterion': 'entropy', 'max_depth': 150}\n",
      "Score : 0.9735714285714285\n",
      "\n",
      "0.964 (+/-0.019) for {'criterion': 'gini', 'max_depth': 10}\n",
      "0.965 (+/-0.019) for {'criterion': 'gini', 'max_depth': 20}\n",
      "0.964 (+/-0.021) for {'criterion': 'gini', 'max_depth': 50}\n",
      "0.966 (+/-0.023) for {'criterion': 'gini', 'max_depth': 70}\n",
      "0.965 (+/-0.023) for {'criterion': 'gini', 'max_depth': 100}\n",
      "0.963 (+/-0.021) for {'criterion': 'gini', 'max_depth': 150}\n",
      "0.964 (+/-0.016) for {'criterion': 'gini', 'max_depth': None}\n",
      "0.968 (+/-0.019) for {'criterion': 'entropy', 'max_depth': 10}\n",
      "0.971 (+/-0.017) for {'criterion': 'entropy', 'max_depth': 20}\n",
      "0.968 (+/-0.015) for {'criterion': 'entropy', 'max_depth': 50}\n",
      "0.972 (+/-0.015) for {'criterion': 'entropy', 'max_depth': 70}\n",
      "0.967 (+/-0.009) for {'criterion': 'entropy', 'max_depth': 100}\n",
      "0.974 (+/-0.016) for {'criterion': 'entropy', 'max_depth': 150}\n",
      "0.969 (+/-0.018) for {'criterion': 'entropy', 'max_depth': None}\n",
      "\n",
      "####################\n",
      "\n",
      "\n",
      "Final Accuracy\n",
      "{\n",
      "  \"SVC\": {\n",
      "    \"acc\": 0.9957142857142858,\n",
      "    \"mean_fit_time\": 0.11472663283348083,\n",
      "    \"mean_score_time\": 0.02989861170450846\n",
      "  },\n",
      "  \"KNN\": {\n",
      "    \"acc\": 0.9957142857142858,\n",
      "    \"mean_fit_time\": 0.0019234085083007814,\n",
      "    \"mean_score_time\": 0.014491724967956542\n",
      "  },\n",
      "  \"RF\": 0,\n",
      "  \"LR\": {\n",
      "    \"acc\": 0.8892857142857142,\n",
      "    \"mean_fit_time\": 0.06608458757400512,\n",
      "    \"mean_score_time\": 0.0007515907287597655\n",
      "  },\n",
      "  \"DTC\": {\n",
      "    \"acc\": 0.9735714285714285,\n",
      "    \"mean_fit_time\": 0.0668165956224714,\n",
      "    \"mean_score_time\": 0.0010575975690569198\n",
      "  }\n",
      "}\n"
     ]
    }
   ],
   "source": [
    "handler.fit(x_train, y_train, True)"
   ]
  },
  {
   "cell_type": "code",
   "execution_count": 11,
   "metadata": {},
   "outputs": [
    {
     "output_type": "stream",
     "name": "stdout",
     "text": [
      "\n####################\nModel name : SVC\n####################\n\n                      precision    recall  f1-score   support\n\n              Cursor       0.97      0.99      0.98        74\n                Idle       1.00      1.00      1.00        84\nLeftMouseDoubleClick       1.00      0.97      0.98        59\n       LeftMouseDown       0.99      1.00      0.99        68\n              Scroll       1.00      1.00      1.00        66\n\n            accuracy                           0.99       351\n           macro avg       0.99      0.99      0.99       351\n        weighted avg       0.99      0.99      0.99       351\n\n\n\n\n####################\nModel name : KNN\n####################\n\n                      precision    recall  f1-score   support\n\n              Cursor       1.00      0.97      0.99        74\n                Idle       1.00      1.00      1.00        84\nLeftMouseDoubleClick       1.00      1.00      1.00        59\n       LeftMouseDown       0.97      1.00      0.99        68\n              Scroll       1.00      1.00      1.00        66\n\n            accuracy                           0.99       351\n           macro avg       0.99      0.99      0.99       351\n        weighted avg       0.99      0.99      0.99       351\n\n\n\n\n####################\nModel name : LR\n####################\n\n                      precision    recall  f1-score   support\n\n              Cursor       0.84      0.89      0.86        74\n                Idle       1.00      0.95      0.98        84\nLeftMouseDoubleClick       0.92      0.80      0.85        59\n       LeftMouseDown       0.88      0.94      0.91        68\n              Scroll       0.94      0.97      0.96        66\n\n            accuracy                           0.91       351\n           macro avg       0.91      0.91      0.91       351\n        weighted avg       0.92      0.91      0.91       351\n\n\n\n\n####################\nModel name : DTC\n####################\n\n                      precision    recall  f1-score   support\n\n              Cursor       0.99      0.91      0.94        74\n                Idle       1.00      1.00      1.00        84\nLeftMouseDoubleClick       0.92      1.00      0.96        59\n       LeftMouseDown       0.97      0.97      0.97        68\n              Scroll       0.99      1.00      0.99        66\n\n            accuracy                           0.97       351\n           macro avg       0.97      0.98      0.97       351\n        weighted avg       0.98      0.97      0.97       351\n\n\n\n"
     ]
    }
   ],
   "source": [
    "for model_name in handler.model_to_be_used:\n",
    "    if handler.model_to_be_used[model_name]:\n",
    "        handler.classification_report(model_name, x_test, y_test )\n",
    "        print()"
   ]
  },
  {
   "cell_type": "code",
   "execution_count": 12,
   "metadata": {},
   "outputs": [],
   "source": [
    "handler.save_model(\n",
    "    model_name='SVC',\n",
    "    model_file_name='handModel.pkl' \n",
    ")"
   ]
  },
  {
   "cell_type": "code",
   "execution_count": null,
   "metadata": {},
   "outputs": [],
   "source": []
  }
 ],
 "metadata": {
  "kernelspec": {
   "name": "python3",
   "display_name": "Python 3.7.10 64-bit ('gesture': conda)"
  },
  "language_info": {
   "codemirror_mode": {
    "name": "ipython",
    "version": 3
   },
   "file_extension": ".py",
   "mimetype": "text/x-python",
   "name": "python",
   "nbconvert_exporter": "python",
   "pygments_lexer": "ipython3",
   "version": "3.7.10"
  },
  "interpreter": {
   "hash": "92860b02218ae6a2a558da7ac415fa3649f4e582acb947211861f5ec41e32a05"
  }
 },
 "nbformat": 4,
 "nbformat_minor": 2
}