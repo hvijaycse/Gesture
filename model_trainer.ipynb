{
 "cells": [
  {
   "cell_type": "code",
   "execution_count": 1,
   "metadata": {
    "scrolled": true
   },
   "outputs": [],
   "source": [
    "import pandas as pd\n",
    "from sklearn.model_selection import train_test_split\n",
    "from modelHandler.classification import classification\n",
    "\n",
    "from config import get_config"
   ]
  },
  {
   "cell_type": "code",
   "execution_count": 2,
   "metadata": {},
   "outputs": [],
   "source": [
    "config = get_config()\n",
    "\n",
    "if config is None:\n",
    "    print(\"Error in loading config\")\n",
    "    exit(1)"
   ]
  },
  {
   "cell_type": "code",
   "execution_count": 3,
   "metadata": {},
   "outputs": [],
   "source": [
    "data_filename = config['data_filename']\n",
    "\n",
    "df = pd.read_csv(data_filename)"
   ]
  },
  {
   "cell_type": "code",
   "execution_count": 4,
   "metadata": {},
   "outputs": [
    {
     "output_type": "execute_result",
     "data": {
      "text/plain": [
       "    Class        x0        y0        z0        x1        y1        z1  \\\n",
       "0  Cursor  0.530331  0.579796  0.115959  0.506750  0.543739  0.108748   \n",
       "1  Cursor  0.516605  0.599947  0.119989  0.489748  0.585647  0.117129   \n",
       "2  Cursor  0.515069  0.603505  0.120701  0.491581  0.580607  0.116121   \n",
       "3  Cursor  0.514896  0.597993  0.119599  0.493318  0.574529  0.114906   \n",
       "4  Cursor  0.515981  0.597124  0.119425  0.494010  0.573130  0.114626   \n",
       "\n",
       "         x2        y2        z2  ...       xz7       x18       y18       xz8  \\\n",
       "0  0.486244  0.507236  0.101447  ...  0.104984  0.572402  0.557310  0.111462   \n",
       "1  0.473223  0.549092  0.109818  ...  0.099611  0.571295  0.529078  0.105816   \n",
       "2  0.476239  0.528676  0.105735  ...  0.099634  0.579970  0.492015  0.098403   \n",
       "3  0.475648  0.521198  0.104240  ...  0.097981  0.576087  0.488070  0.097614   \n",
       "4  0.476535  0.524284  0.104857  ...  0.099126  0.578412  0.483307  0.096661   \n",
       "\n",
       "        x19       y19       xz9       x20       y20     xz0.1  \n",
       "0  0.554415  0.585564  0.117113  0.542436  0.597366  0.119473  \n",
       "1  0.552146  0.559817  0.111963  0.543940  0.572407  0.114481  \n",
       "2  0.562303  0.530299  0.106060  0.548250  0.561887  0.112377  \n",
       "3  0.559819  0.524841  0.104968  0.547920  0.552965  0.110593  \n",
       "4  0.562260  0.518414  0.103683  0.550511  0.546615  0.109323  \n",
       "\n",
       "[5 rows x 64 columns]"
      ],
      "text/html": "<div>\n<style scoped>\n    .dataframe tbody tr th:only-of-type {\n        vertical-align: middle;\n    }\n\n    .dataframe tbody tr th {\n        vertical-align: top;\n    }\n\n    .dataframe thead th {\n        text-align: right;\n    }\n</style>\n<table border=\"1\" class=\"dataframe\">\n  <thead>\n    <tr style=\"text-align: right;\">\n      <th></th>\n      <th>Class</th>\n      <th>x0</th>\n      <th>y0</th>\n      <th>z0</th>\n      <th>x1</th>\n      <th>y1</th>\n      <th>z1</th>\n      <th>x2</th>\n      <th>y2</th>\n      <th>z2</th>\n      <th>...</th>\n      <th>xz7</th>\n      <th>x18</th>\n      <th>y18</th>\n      <th>xz8</th>\n      <th>x19</th>\n      <th>y19</th>\n      <th>xz9</th>\n      <th>x20</th>\n      <th>y20</th>\n      <th>xz0.1</th>\n    </tr>\n  </thead>\n  <tbody>\n    <tr>\n      <th>0</th>\n      <td>Cursor</td>\n      <td>0.530331</td>\n      <td>0.579796</td>\n      <td>0.115959</td>\n      <td>0.506750</td>\n      <td>0.543739</td>\n      <td>0.108748</td>\n      <td>0.486244</td>\n      <td>0.507236</td>\n      <td>0.101447</td>\n      <td>...</td>\n      <td>0.104984</td>\n      <td>0.572402</td>\n      <td>0.557310</td>\n      <td>0.111462</td>\n      <td>0.554415</td>\n      <td>0.585564</td>\n      <td>0.117113</td>\n      <td>0.542436</td>\n      <td>0.597366</td>\n      <td>0.119473</td>\n    </tr>\n    <tr>\n      <th>1</th>\n      <td>Cursor</td>\n      <td>0.516605</td>\n      <td>0.599947</td>\n      <td>0.119989</td>\n      <td>0.489748</td>\n      <td>0.585647</td>\n      <td>0.117129</td>\n      <td>0.473223</td>\n      <td>0.549092</td>\n      <td>0.109818</td>\n      <td>...</td>\n      <td>0.099611</td>\n      <td>0.571295</td>\n      <td>0.529078</td>\n      <td>0.105816</td>\n      <td>0.552146</td>\n      <td>0.559817</td>\n      <td>0.111963</td>\n      <td>0.543940</td>\n      <td>0.572407</td>\n      <td>0.114481</td>\n    </tr>\n    <tr>\n      <th>2</th>\n      <td>Cursor</td>\n      <td>0.515069</td>\n      <td>0.603505</td>\n      <td>0.120701</td>\n      <td>0.491581</td>\n      <td>0.580607</td>\n      <td>0.116121</td>\n      <td>0.476239</td>\n      <td>0.528676</td>\n      <td>0.105735</td>\n      <td>...</td>\n      <td>0.099634</td>\n      <td>0.579970</td>\n      <td>0.492015</td>\n      <td>0.098403</td>\n      <td>0.562303</td>\n      <td>0.530299</td>\n      <td>0.106060</td>\n      <td>0.548250</td>\n      <td>0.561887</td>\n      <td>0.112377</td>\n    </tr>\n    <tr>\n      <th>3</th>\n      <td>Cursor</td>\n      <td>0.514896</td>\n      <td>0.597993</td>\n      <td>0.119599</td>\n      <td>0.493318</td>\n      <td>0.574529</td>\n      <td>0.114906</td>\n      <td>0.475648</td>\n      <td>0.521198</td>\n      <td>0.104240</td>\n      <td>...</td>\n      <td>0.097981</td>\n      <td>0.576087</td>\n      <td>0.488070</td>\n      <td>0.097614</td>\n      <td>0.559819</td>\n      <td>0.524841</td>\n      <td>0.104968</td>\n      <td>0.547920</td>\n      <td>0.552965</td>\n      <td>0.110593</td>\n    </tr>\n    <tr>\n      <th>4</th>\n      <td>Cursor</td>\n      <td>0.515981</td>\n      <td>0.597124</td>\n      <td>0.119425</td>\n      <td>0.494010</td>\n      <td>0.573130</td>\n      <td>0.114626</td>\n      <td>0.476535</td>\n      <td>0.524284</td>\n      <td>0.104857</td>\n      <td>...</td>\n      <td>0.099126</td>\n      <td>0.578412</td>\n      <td>0.483307</td>\n      <td>0.096661</td>\n      <td>0.562260</td>\n      <td>0.518414</td>\n      <td>0.103683</td>\n      <td>0.550511</td>\n      <td>0.546615</td>\n      <td>0.109323</td>\n    </tr>\n  </tbody>\n</table>\n<p>5 rows × 64 columns</p>\n</div>"
     },
     "metadata": {},
     "execution_count": 4
    }
   ],
   "source": [
    "df.head()"
   ]
  },
  {
   "cell_type": "code",
   "execution_count": 5,
   "metadata": {},
   "outputs": [
    {
     "output_type": "stream",
     "name": "stdout",
     "text": [
      "Class:  ['Cursor' 'Scroll' 'LeftMouseDown' 'TaskView' 'Idle'\n 'LeftMouseDoubleClick']\n"
     ]
    }
   ],
   "source": [
    "label = df['Class']\n",
    "features = df.drop('Class', axis=1)\n",
    "\n",
    "print('Class: ',label.unique())\n"
   ]
  },
  {
   "cell_type": "code",
   "execution_count": 6,
   "metadata": {},
   "outputs": [
    {
     "output_type": "execute_result",
     "data": {
      "text/plain": [
       "         x0        y0        z0        x1        y1        z1        x2  \\\n",
       "0  0.530331  0.579796  0.115959  0.506750  0.543739  0.108748  0.486244   \n",
       "1  0.516605  0.599947  0.119989  0.489748  0.585647  0.117129  0.473223   \n",
       "2  0.515069  0.603505  0.120701  0.491581  0.580607  0.116121  0.476239   \n",
       "3  0.514896  0.597993  0.119599  0.493318  0.574529  0.114906  0.475648   \n",
       "4  0.515981  0.597124  0.119425  0.494010  0.573130  0.114626  0.476535   \n",
       "\n",
       "         y2        z2        x3  ...       xz7       x18       y18       xz8  \\\n",
       "0  0.507236  0.101447  0.479070  ...  0.104984  0.572402  0.557310  0.111462   \n",
       "1  0.549092  0.109818  0.479842  ...  0.099611  0.571295  0.529078  0.105816   \n",
       "2  0.528676  0.105735  0.482706  ...  0.099634  0.579970  0.492015  0.098403   \n",
       "3  0.521198  0.104240  0.480533  ...  0.097981  0.576087  0.488070  0.097614   \n",
       "4  0.524284  0.104857  0.479081  ...  0.099126  0.578412  0.483307  0.096661   \n",
       "\n",
       "        x19       y19       xz9       x20       y20     xz0.1  \n",
       "0  0.554415  0.585564  0.117113  0.542436  0.597366  0.119473  \n",
       "1  0.552146  0.559817  0.111963  0.543940  0.572407  0.114481  \n",
       "2  0.562303  0.530299  0.106060  0.548250  0.561887  0.112377  \n",
       "3  0.559819  0.524841  0.104968  0.547920  0.552965  0.110593  \n",
       "4  0.562260  0.518414  0.103683  0.550511  0.546615  0.109323  \n",
       "\n",
       "[5 rows x 63 columns]"
      ],
      "text/html": "<div>\n<style scoped>\n    .dataframe tbody tr th:only-of-type {\n        vertical-align: middle;\n    }\n\n    .dataframe tbody tr th {\n        vertical-align: top;\n    }\n\n    .dataframe thead th {\n        text-align: right;\n    }\n</style>\n<table border=\"1\" class=\"dataframe\">\n  <thead>\n    <tr style=\"text-align: right;\">\n      <th></th>\n      <th>x0</th>\n      <th>y0</th>\n      <th>z0</th>\n      <th>x1</th>\n      <th>y1</th>\n      <th>z1</th>\n      <th>x2</th>\n      <th>y2</th>\n      <th>z2</th>\n      <th>x3</th>\n      <th>...</th>\n      <th>xz7</th>\n      <th>x18</th>\n      <th>y18</th>\n      <th>xz8</th>\n      <th>x19</th>\n      <th>y19</th>\n      <th>xz9</th>\n      <th>x20</th>\n      <th>y20</th>\n      <th>xz0.1</th>\n    </tr>\n  </thead>\n  <tbody>\n    <tr>\n      <th>0</th>\n      <td>0.530331</td>\n      <td>0.579796</td>\n      <td>0.115959</td>\n      <td>0.506750</td>\n      <td>0.543739</td>\n      <td>0.108748</td>\n      <td>0.486244</td>\n      <td>0.507236</td>\n      <td>0.101447</td>\n      <td>0.479070</td>\n      <td>...</td>\n      <td>0.104984</td>\n      <td>0.572402</td>\n      <td>0.557310</td>\n      <td>0.111462</td>\n      <td>0.554415</td>\n      <td>0.585564</td>\n      <td>0.117113</td>\n      <td>0.542436</td>\n      <td>0.597366</td>\n      <td>0.119473</td>\n    </tr>\n    <tr>\n      <th>1</th>\n      <td>0.516605</td>\n      <td>0.599947</td>\n      <td>0.119989</td>\n      <td>0.489748</td>\n      <td>0.585647</td>\n      <td>0.117129</td>\n      <td>0.473223</td>\n      <td>0.549092</td>\n      <td>0.109818</td>\n      <td>0.479842</td>\n      <td>...</td>\n      <td>0.099611</td>\n      <td>0.571295</td>\n      <td>0.529078</td>\n      <td>0.105816</td>\n      <td>0.552146</td>\n      <td>0.559817</td>\n      <td>0.111963</td>\n      <td>0.543940</td>\n      <td>0.572407</td>\n      <td>0.114481</td>\n    </tr>\n    <tr>\n      <th>2</th>\n      <td>0.515069</td>\n      <td>0.603505</td>\n      <td>0.120701</td>\n      <td>0.491581</td>\n      <td>0.580607</td>\n      <td>0.116121</td>\n      <td>0.476239</td>\n      <td>0.528676</td>\n      <td>0.105735</td>\n      <td>0.482706</td>\n      <td>...</td>\n      <td>0.099634</td>\n      <td>0.579970</td>\n      <td>0.492015</td>\n      <td>0.098403</td>\n      <td>0.562303</td>\n      <td>0.530299</td>\n      <td>0.106060</td>\n      <td>0.548250</td>\n      <td>0.561887</td>\n      <td>0.112377</td>\n    </tr>\n    <tr>\n      <th>3</th>\n      <td>0.514896</td>\n      <td>0.597993</td>\n      <td>0.119599</td>\n      <td>0.493318</td>\n      <td>0.574529</td>\n      <td>0.114906</td>\n      <td>0.475648</td>\n      <td>0.521198</td>\n      <td>0.104240</td>\n      <td>0.480533</td>\n      <td>...</td>\n      <td>0.097981</td>\n      <td>0.576087</td>\n      <td>0.488070</td>\n      <td>0.097614</td>\n      <td>0.559819</td>\n      <td>0.524841</td>\n      <td>0.104968</td>\n      <td>0.547920</td>\n      <td>0.552965</td>\n      <td>0.110593</td>\n    </tr>\n    <tr>\n      <th>4</th>\n      <td>0.515981</td>\n      <td>0.597124</td>\n      <td>0.119425</td>\n      <td>0.494010</td>\n      <td>0.573130</td>\n      <td>0.114626</td>\n      <td>0.476535</td>\n      <td>0.524284</td>\n      <td>0.104857</td>\n      <td>0.479081</td>\n      <td>...</td>\n      <td>0.099126</td>\n      <td>0.578412</td>\n      <td>0.483307</td>\n      <td>0.096661</td>\n      <td>0.562260</td>\n      <td>0.518414</td>\n      <td>0.103683</td>\n      <td>0.550511</td>\n      <td>0.546615</td>\n      <td>0.109323</td>\n    </tr>\n  </tbody>\n</table>\n<p>5 rows × 63 columns</p>\n</div>"
     },
     "metadata": {},
     "execution_count": 6
    }
   ],
   "source": [
    "features.head()"
   ]
  },
  {
   "cell_type": "code",
   "execution_count": 7,
   "metadata": {},
   "outputs": [],
   "source": [
    "x_train, x_test, y_train, y_test = train_test_split(features, label, test_size = 0.2)"
   ]
  },
  {
   "cell_type": "code",
   "execution_count": 8,
   "metadata": {},
   "outputs": [],
   "source": [
    "model_list = ['SVC', 'KNN', 'LR', 'DTC']"
   ]
  },
  {
   "cell_type": "code",
   "execution_count": 9,
   "metadata": {},
   "outputs": [],
   "source": [
    "handler = classification(model_list=model_list)"
   ]
  },
  {
   "cell_type": "code",
   "execution_count": 10,
   "metadata": {},
   "outputs": [
    {
     "output_type": "stream",
     "name": "stdout",
     "text": [
      "\n",
      "Model: SVC\n",
      "\n",
      "Prameters : {'C': 1, 'gamma': 'scale', 'kernel': 'poly'}\n",
      "Score : 0.9970149253731343\n",
      "\n",
      "0.215 (+/-0.071) for {'C': 0.001, 'gamma': 'scale', 'kernel': 'linear'}\n",
      "0.414 (+/-0.021) for {'C': 0.001, 'gamma': 'scale', 'kernel': 'poly'}\n",
      "0.213 (+/-0.069) for {'C': 0.001, 'gamma': 'scale', 'kernel': 'rbf'}\n",
      "0.215 (+/-0.071) for {'C': 0.001, 'gamma': 'auto', 'kernel': 'linear'}\n",
      "0.214 (+/-0.070) for {'C': 0.001, 'gamma': 'auto', 'kernel': 'poly'}\n",
      "0.216 (+/-0.072) for {'C': 0.001, 'gamma': 'auto', 'kernel': 'rbf'}\n",
      "0.215 (+/-0.071) for {'C': 0.01, 'gamma': 'scale', 'kernel': 'linear'}\n",
      "0.946 (+/-0.027) for {'C': 0.01, 'gamma': 'scale', 'kernel': 'poly'}\n",
      "0.222 (+/-0.053) for {'C': 0.01, 'gamma': 'scale', 'kernel': 'rbf'}\n",
      "0.215 (+/-0.071) for {'C': 0.01, 'gamma': 'auto', 'kernel': 'linear'}\n",
      "0.214 (+/-0.070) for {'C': 0.01, 'gamma': 'auto', 'kernel': 'poly'}\n",
      "0.216 (+/-0.072) for {'C': 0.01, 'gamma': 'auto', 'kernel': 'rbf'}\n",
      "0.372 (+/-0.020) for {'C': 0.1, 'gamma': 'scale', 'kernel': 'linear'}\n",
      "0.995 (+/-0.007) for {'C': 0.1, 'gamma': 'scale', 'kernel': 'poly'}\n",
      "0.811 (+/-0.030) for {'C': 0.1, 'gamma': 'scale', 'kernel': 'rbf'}\n",
      "0.372 (+/-0.020) for {'C': 0.1, 'gamma': 'auto', 'kernel': 'linear'}\n",
      "0.214 (+/-0.070) for {'C': 0.1, 'gamma': 'auto', 'kernel': 'poly'}\n",
      "0.216 (+/-0.072) for {'C': 0.1, 'gamma': 'auto', 'kernel': 'rbf'}\n",
      "0.931 (+/-0.018) for {'C': 1, 'gamma': 'scale', 'kernel': 'linear'}\n",
      "0.997 (+/-0.005) for {'C': 1, 'gamma': 'scale', 'kernel': 'poly'}\n",
      "0.993 (+/-0.006) for {'C': 1, 'gamma': 'scale', 'kernel': 'rbf'}\n",
      "0.931 (+/-0.018) for {'C': 1, 'gamma': 'auto', 'kernel': 'linear'}\n",
      "0.214 (+/-0.070) for {'C': 1, 'gamma': 'auto', 'kernel': 'poly'}\n",
      "0.216 (+/-0.072) for {'C': 1, 'gamma': 'auto', 'kernel': 'rbf'}\n",
      "\n",
      "####################\n",
      "\n",
      "Model: KNN\n",
      "\n",
      "Prameters : {'n_neighbors': 1, 'weights': 'uniform'}\n",
      "Score : 0.9973887545512661\n",
      "\n",
      "0.997 (+/-0.005) for {'n_neighbors': 1, 'weights': 'uniform'}\n",
      "0.997 (+/-0.005) for {'n_neighbors': 1, 'weights': 'distance'}\n",
      "0.995 (+/-0.004) for {'n_neighbors': 3, 'weights': 'uniform'}\n",
      "0.995 (+/-0.004) for {'n_neighbors': 3, 'weights': 'distance'}\n",
      "0.994 (+/-0.004) for {'n_neighbors': 5, 'weights': 'uniform'}\n",
      "0.994 (+/-0.003) for {'n_neighbors': 5, 'weights': 'distance'}\n",
      "0.988 (+/-0.008) for {'n_neighbors': 10, 'weights': 'uniform'}\n",
      "0.993 (+/-0.004) for {'n_neighbors': 10, 'weights': 'distance'}\n",
      "0.975 (+/-0.008) for {'n_neighbors': 20, 'weights': 'uniform'}\n",
      "0.986 (+/-0.006) for {'n_neighbors': 20, 'weights': 'distance'}\n",
      "\n",
      "####################\n",
      "C:\\Users\\harsh\\Anaconda3\\envs\\gesture\\lib\\site-packages\\sklearn\\linear_model\\_logistic.py:765: ConvergenceWarning: lbfgs failed to converge (status=1):\n",
      "STOP: TOTAL NO. of ITERATIONS REACHED LIMIT.\n",
      "\n",
      "Increase the number of iterations (max_iter) or scale the data as shown in:\n",
      "    https://scikit-learn.org/stable/modules/preprocessing.html\n",
      "Please also refer to the documentation for alternative solver options:\n",
      "    https://scikit-learn.org/stable/modules/linear_model.html#logistic-regression\n",
      "  extra_warning_msg=_LOGISTIC_SOLVER_CONVERGENCE_MSG)\n",
      "C:\\Users\\harsh\\Anaconda3\\envs\\gesture\\lib\\site-packages\\sklearn\\linear_model\\_logistic.py:765: ConvergenceWarning: lbfgs failed to converge (status=1):\n",
      "STOP: TOTAL NO. of ITERATIONS REACHED LIMIT.\n",
      "\n",
      "Increase the number of iterations (max_iter) or scale the data as shown in:\n",
      "    https://scikit-learn.org/stable/modules/preprocessing.html\n",
      "Please also refer to the documentation for alternative solver options:\n",
      "    https://scikit-learn.org/stable/modules/linear_model.html#logistic-regression\n",
      "  extra_warning_msg=_LOGISTIC_SOLVER_CONVERGENCE_MSG)\n",
      "C:\\Users\\harsh\\Anaconda3\\envs\\gesture\\lib\\site-packages\\sklearn\\linear_model\\_logistic.py:765: ConvergenceWarning: lbfgs failed to converge (status=1):\n",
      "STOP: TOTAL NO. of ITERATIONS REACHED LIMIT.\n",
      "\n",
      "Increase the number of iterations (max_iter) or scale the data as shown in:\n",
      "    https://scikit-learn.org/stable/modules/preprocessing.html\n",
      "Please also refer to the documentation for alternative solver options:\n",
      "    https://scikit-learn.org/stable/modules/linear_model.html#logistic-regression\n",
      "  extra_warning_msg=_LOGISTIC_SOLVER_CONVERGENCE_MSG)\n",
      "C:\\Users\\harsh\\Anaconda3\\envs\\gesture\\lib\\site-packages\\sklearn\\linear_model\\_logistic.py:765: ConvergenceWarning: lbfgs failed to converge (status=1):\n",
      "STOP: TOTAL NO. of ITERATIONS REACHED LIMIT.\n",
      "\n",
      "Increase the number of iterations (max_iter) or scale the data as shown in:\n",
      "    https://scikit-learn.org/stable/modules/preprocessing.html\n",
      "Please also refer to the documentation for alternative solver options:\n",
      "    https://scikit-learn.org/stable/modules/linear_model.html#logistic-regression\n",
      "  extra_warning_msg=_LOGISTIC_SOLVER_CONVERGENCE_MSG)\n",
      "C:\\Users\\harsh\\Anaconda3\\envs\\gesture\\lib\\site-packages\\sklearn\\linear_model\\_logistic.py:765: ConvergenceWarning: lbfgs failed to converge (status=1):\n",
      "STOP: TOTAL NO. of ITERATIONS REACHED LIMIT.\n",
      "\n",
      "Increase the number of iterations (max_iter) or scale the data as shown in:\n",
      "    https://scikit-learn.org/stable/modules/preprocessing.html\n",
      "Please also refer to the documentation for alternative solver options:\n",
      "    https://scikit-learn.org/stable/modules/linear_model.html#logistic-regression\n",
      "  extra_warning_msg=_LOGISTIC_SOLVER_CONVERGENCE_MSG)\n",
      "C:\\Users\\harsh\\Anaconda3\\envs\\gesture\\lib\\site-packages\\sklearn\\linear_model\\_logistic.py:765: ConvergenceWarning: lbfgs failed to converge (status=1):\n",
      "STOP: TOTAL NO. of ITERATIONS REACHED LIMIT.\n",
      "\n",
      "Increase the number of iterations (max_iter) or scale the data as shown in:\n",
      "    https://scikit-learn.org/stable/modules/preprocessing.html\n",
      "Please also refer to the documentation for alternative solver options:\n",
      "    https://scikit-learn.org/stable/modules/linear_model.html#logistic-regression\n",
      "  extra_warning_msg=_LOGISTIC_SOLVER_CONVERGENCE_MSG)\n",
      "\n",
      "Model: LR\n",
      "\n",
      "Prameters : {'C': 1}\n",
      "Score : 0.9433030378832097\n",
      "\n",
      "0.242 (+/-0.012) for {'C': 0.001}\n",
      "0.350 (+/-0.043) for {'C': 0.01}\n",
      "0.636 (+/-0.035) for {'C': 0.1}\n",
      "0.943 (+/-0.019) for {'C': 1}\n",
      "\n",
      "####################\n",
      "\n",
      "Model: DTC\n",
      "\n",
      "Prameters : {'criterion': 'entropy', 'max_depth': 10}\n",
      "Score : 0.9694120181216821\n",
      "\n",
      "0.965 (+/-0.013) for {'criterion': 'gini', 'max_depth': 10}\n",
      "0.968 (+/-0.009) for {'criterion': 'gini', 'max_depth': 20}\n",
      "0.966 (+/-0.008) for {'criterion': 'gini', 'max_depth': 50}\n",
      "0.969 (+/-0.012) for {'criterion': 'gini', 'max_depth': 70}\n",
      "0.968 (+/-0.013) for {'criterion': 'gini', 'max_depth': 100}\n",
      "0.967 (+/-0.015) for {'criterion': 'gini', 'max_depth': 150}\n",
      "0.966 (+/-0.011) for {'criterion': 'gini', 'max_depth': None}\n",
      "0.969 (+/-0.009) for {'criterion': 'entropy', 'max_depth': 10}\n",
      "0.968 (+/-0.013) for {'criterion': 'entropy', 'max_depth': 20}\n",
      "0.966 (+/-0.009) for {'criterion': 'entropy', 'max_depth': 50}\n",
      "0.966 (+/-0.016) for {'criterion': 'entropy', 'max_depth': 70}\n",
      "0.966 (+/-0.013) for {'criterion': 'entropy', 'max_depth': 100}\n",
      "0.969 (+/-0.007) for {'criterion': 'entropy', 'max_depth': 150}\n",
      "0.969 (+/-0.007) for {'criterion': 'entropy', 'max_depth': None}\n",
      "\n",
      "####################\n",
      "\n",
      "\n",
      "Final Accuracy\n",
      "{\n",
      "  \"SVC\": {\n",
      "    \"acc\": 0.9970149253731343,\n",
      "    \"mean_fit_time\": 0.48087849020957946,\n",
      "    \"mean_score_time\": 0.11629427671432495\n",
      "  },\n",
      "  \"KNN\": {\n",
      "    \"acc\": 0.9973887545512661,\n",
      "    \"mean_fit_time\": 0.004700608253479003,\n",
      "    \"mean_score_time\": 0.0487376594543457\n",
      "  },\n",
      "  \"RF\": 0,\n",
      "  \"LR\": {\n",
      "    \"acc\": 0.9433030378832097,\n",
      "    \"mean_fit_time\": 0.1518661856651306,\n",
      "    \"mean_score_time\": 0.0020024657249450685\n",
      "  },\n",
      "  \"DTC\": {\n",
      "    \"acc\": 0.9694120181216821,\n",
      "    \"mean_fit_time\": 0.16583216871534076,\n",
      "    \"mean_score_time\": 0.0012001446315220426\n",
      "  }\n",
      "}\n"
     ]
    }
   ],
   "source": [
    "handler.fit(x_train, y_train, True)"
   ]
  },
  {
   "cell_type": "code",
   "execution_count": 11,
   "metadata": {},
   "outputs": [
    {
     "output_type": "stream",
     "name": "stdout",
     "text": [
      "\n",
      "####################\n",
      "Model name : SVC\n",
      "####################\n",
      "\n",
      "                      precision    recall  f1-score   support\n",
      "\n",
      "              Cursor       1.00      0.99      0.99        98\n",
      "                Idle       1.00      1.00      1.00       108\n",
      "LeftMouseDoubleClick       0.99      1.00      1.00       137\n",
      "       LeftMouseDown       1.00      1.00      1.00       109\n",
      "              Scroll       1.00      1.00      1.00       103\n",
      "            TaskView       1.00      1.00      1.00       116\n",
      "\n",
      "            accuracy                           1.00       671\n",
      "           macro avg       1.00      1.00      1.00       671\n",
      "        weighted avg       1.00      1.00      1.00       671\n",
      "\n",
      "\n",
      "\n",
      "\n",
      "####################\n",
      "Model name : KNN\n",
      "####################\n",
      "\n",
      "                      precision    recall  f1-score   support\n",
      "\n",
      "              Cursor       1.00      0.99      0.99        98\n",
      "                Idle       1.00      1.00      1.00       108\n",
      "LeftMouseDoubleClick       0.99      1.00      1.00       137\n",
      "       LeftMouseDown       1.00      1.00      1.00       109\n",
      "              Scroll       0.99      1.00      1.00       103\n",
      "            TaskView       1.00      0.99      1.00       116\n",
      "\n",
      "            accuracy                           1.00       671\n",
      "           macro avg       1.00      1.00      1.00       671\n",
      "        weighted avg       1.00      1.00      1.00       671\n",
      "\n",
      "\n",
      "\n",
      "\n",
      "####################\n",
      "Model name : LR\n",
      "####################\n",
      "\n",
      "                      precision    recall  f1-score   support\n",
      "\n",
      "              Cursor       0.89      0.83      0.86        98\n",
      "                Idle       1.00      1.00      1.00       108\n",
      "LeftMouseDoubleClick       0.92      0.90      0.91       137\n",
      "       LeftMouseDown       0.90      1.00      0.95       109\n",
      "              Scroll       0.99      0.97      0.98       103\n",
      "            TaskView       0.99      0.99      0.99       116\n",
      "\n",
      "            accuracy                           0.95       671\n",
      "           macro avg       0.95      0.95      0.95       671\n",
      "        weighted avg       0.95      0.95      0.95       671\n",
      "\n",
      "\n",
      "\n",
      "\n",
      "####################\n",
      "Model name : DTC\n",
      "####################\n",
      "\n",
      "                      precision    recall  f1-score   support\n",
      "\n",
      "              Cursor       0.95      0.98      0.96        98\n",
      "                Idle       0.99      0.99      0.99       108\n",
      "LeftMouseDoubleClick       0.97      0.97      0.97       137\n",
      "       LeftMouseDown       0.99      0.96      0.98       109\n",
      "              Scroll       0.98      0.99      0.99       103\n",
      "            TaskView       0.99      0.98      0.99       116\n",
      "\n",
      "            accuracy                           0.98       671\n",
      "           macro avg       0.98      0.98      0.98       671\n",
      "        weighted avg       0.98      0.98      0.98       671\n",
      "\n",
      "\n",
      "\n"
     ]
    }
   ],
   "source": [
    "for model_name in handler.model_to_be_used:\n",
    "    if handler.model_to_be_used[model_name]:\n",
    "        handler.classification_report(model_name, x_test, y_test )\n",
    "        print()"
   ]
  },
  {
   "cell_type": "code",
   "execution_count": 13,
   "metadata": {},
   "outputs": [],
   "source": [
    "handler.save_model(\n",
    "    model_name='SVC',\n",
    "    model_file_name= config['model_filename']\n",
    ")"
   ]
  },
  {
   "cell_type": "code",
   "execution_count": null,
   "metadata": {},
   "outputs": [],
   "source": []
  }
 ],
 "metadata": {
  "kernelspec": {
   "name": "python3",
   "display_name": "Python 3.7.10 64-bit ('gesture': conda)"
  },
  "language_info": {
   "codemirror_mode": {
    "name": "ipython",
    "version": 3
   },
   "file_extension": ".py",
   "mimetype": "text/x-python",
   "name": "python",
   "nbconvert_exporter": "python",
   "pygments_lexer": "ipython3",
   "version": "3.7.10"
  },
  "interpreter": {
   "hash": "92860b02218ae6a2a558da7ac415fa3649f4e582acb947211861f5ec41e32a05"
  }
 },
 "nbformat": 4,
 "nbformat_minor": 2
}