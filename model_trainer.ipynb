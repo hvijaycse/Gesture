{
 "cells": [
  {
   "cell_type": "code",
   "execution_count": 25,
   "metadata": {
    "scrolled": true
   },
   "outputs": [],
   "source": [
    "import pandas as pd\n",
    "from sklearn.model_selection import train_test_split\n",
    "from modelHandler.classification import classification\n",
    "\n",
    "from config import get_config"
   ]
  },
  {
   "cell_type": "code",
   "execution_count": 26,
   "metadata": {},
   "outputs": [],
   "source": [
    "config = get_config()\n",
    "\n",
    "if config is None:\n",
    "    print(\"Error in loading config\")\n",
    "    exit(1)"
   ]
  },
  {
   "cell_type": "code",
   "execution_count": 27,
   "metadata": {},
   "outputs": [],
   "source": [
    "data_filename = config['data_filename']\n",
    "\n",
    "df = pd.read_csv(data_filename)"
   ]
  },
  {
   "cell_type": "code",
   "execution_count": 28,
   "metadata": {},
   "outputs": [
    {
     "output_type": "execute_result",
     "data": {
      "text/plain": [
       "  Class        x0        y0        z0        x1        y1        z1        x2  \\\n",
       "0  Idle  0.383673  0.789544  0.157909  0.347281  0.731616  0.146323  0.331492   \n",
       "1  Idle  0.422877  0.783666  0.156733  0.378466  0.724329  0.144866  0.347201   \n",
       "2  Idle  0.435217  0.756256  0.151251  0.391306  0.701590  0.140318  0.364045   \n",
       "3  Idle  0.459191  0.730218  0.146044  0.415594  0.670124  0.134025  0.389204   \n",
       "4  Idle  0.472732  0.701545  0.140309  0.430766  0.638887  0.127777  0.404721   \n",
       "\n",
       "         y2        z2  ...       xz7       x18       y18       xz8       x19  \\\n",
       "0  0.674784  0.134957  ...  0.143623  0.460164  0.688000  0.137600  0.455306   \n",
       "1  0.649369  0.129874  ...  0.131323  0.477847  0.608840  0.121768  0.486682   \n",
       "2  0.630506  0.126101  ...  0.125642  0.494621  0.585169  0.117034  0.507475   \n",
       "3  0.601788  0.120358  ...  0.115045  0.514042  0.542152  0.108430  0.520657   \n",
       "4  0.572033  0.114407  ...  0.109061  0.533203  0.517448  0.103490  0.541626   \n",
       "\n",
       "        y19       xz9       x20       y20     xz0.1  \n",
       "0  0.689306  0.137861  0.447209  0.697019  0.139404  \n",
       "1  0.577556  0.115511  0.492570  0.555745  0.111149  \n",
       "2  0.552459  0.110492  0.517274  0.527063  0.105413  \n",
       "3  0.512985  0.102597  0.523252  0.486472  0.097294  \n",
       "4  0.492723  0.098545  0.547938  0.471482  0.094296  \n",
       "\n",
       "[5 rows x 64 columns]"
      ],
      "text/html": "<div>\n<style scoped>\n    .dataframe tbody tr th:only-of-type {\n        vertical-align: middle;\n    }\n\n    .dataframe tbody tr th {\n        vertical-align: top;\n    }\n\n    .dataframe thead th {\n        text-align: right;\n    }\n</style>\n<table border=\"1\" class=\"dataframe\">\n  <thead>\n    <tr style=\"text-align: right;\">\n      <th></th>\n      <th>Class</th>\n      <th>x0</th>\n      <th>y0</th>\n      <th>z0</th>\n      <th>x1</th>\n      <th>y1</th>\n      <th>z1</th>\n      <th>x2</th>\n      <th>y2</th>\n      <th>z2</th>\n      <th>...</th>\n      <th>xz7</th>\n      <th>x18</th>\n      <th>y18</th>\n      <th>xz8</th>\n      <th>x19</th>\n      <th>y19</th>\n      <th>xz9</th>\n      <th>x20</th>\n      <th>y20</th>\n      <th>xz0.1</th>\n    </tr>\n  </thead>\n  <tbody>\n    <tr>\n      <th>0</th>\n      <td>Idle</td>\n      <td>0.383673</td>\n      <td>0.789544</td>\n      <td>0.157909</td>\n      <td>0.347281</td>\n      <td>0.731616</td>\n      <td>0.146323</td>\n      <td>0.331492</td>\n      <td>0.674784</td>\n      <td>0.134957</td>\n      <td>...</td>\n      <td>0.143623</td>\n      <td>0.460164</td>\n      <td>0.688000</td>\n      <td>0.137600</td>\n      <td>0.455306</td>\n      <td>0.689306</td>\n      <td>0.137861</td>\n      <td>0.447209</td>\n      <td>0.697019</td>\n      <td>0.139404</td>\n    </tr>\n    <tr>\n      <th>1</th>\n      <td>Idle</td>\n      <td>0.422877</td>\n      <td>0.783666</td>\n      <td>0.156733</td>\n      <td>0.378466</td>\n      <td>0.724329</td>\n      <td>0.144866</td>\n      <td>0.347201</td>\n      <td>0.649369</td>\n      <td>0.129874</td>\n      <td>...</td>\n      <td>0.131323</td>\n      <td>0.477847</td>\n      <td>0.608840</td>\n      <td>0.121768</td>\n      <td>0.486682</td>\n      <td>0.577556</td>\n      <td>0.115511</td>\n      <td>0.492570</td>\n      <td>0.555745</td>\n      <td>0.111149</td>\n    </tr>\n    <tr>\n      <th>2</th>\n      <td>Idle</td>\n      <td>0.435217</td>\n      <td>0.756256</td>\n      <td>0.151251</td>\n      <td>0.391306</td>\n      <td>0.701590</td>\n      <td>0.140318</td>\n      <td>0.364045</td>\n      <td>0.630506</td>\n      <td>0.126101</td>\n      <td>...</td>\n      <td>0.125642</td>\n      <td>0.494621</td>\n      <td>0.585169</td>\n      <td>0.117034</td>\n      <td>0.507475</td>\n      <td>0.552459</td>\n      <td>0.110492</td>\n      <td>0.517274</td>\n      <td>0.527063</td>\n      <td>0.105413</td>\n    </tr>\n    <tr>\n      <th>3</th>\n      <td>Idle</td>\n      <td>0.459191</td>\n      <td>0.730218</td>\n      <td>0.146044</td>\n      <td>0.415594</td>\n      <td>0.670124</td>\n      <td>0.134025</td>\n      <td>0.389204</td>\n      <td>0.601788</td>\n      <td>0.120358</td>\n      <td>...</td>\n      <td>0.115045</td>\n      <td>0.514042</td>\n      <td>0.542152</td>\n      <td>0.108430</td>\n      <td>0.520657</td>\n      <td>0.512985</td>\n      <td>0.102597</td>\n      <td>0.523252</td>\n      <td>0.486472</td>\n      <td>0.097294</td>\n    </tr>\n    <tr>\n      <th>4</th>\n      <td>Idle</td>\n      <td>0.472732</td>\n      <td>0.701545</td>\n      <td>0.140309</td>\n      <td>0.430766</td>\n      <td>0.638887</td>\n      <td>0.127777</td>\n      <td>0.404721</td>\n      <td>0.572033</td>\n      <td>0.114407</td>\n      <td>...</td>\n      <td>0.109061</td>\n      <td>0.533203</td>\n      <td>0.517448</td>\n      <td>0.103490</td>\n      <td>0.541626</td>\n      <td>0.492723</td>\n      <td>0.098545</td>\n      <td>0.547938</td>\n      <td>0.471482</td>\n      <td>0.094296</td>\n    </tr>\n  </tbody>\n</table>\n<p>5 rows × 64 columns</p>\n</div>"
     },
     "metadata": {},
     "execution_count": 28
    }
   ],
   "source": [
    "df.head()"
   ]
  },
  {
   "cell_type": "code",
   "execution_count": 29,
   "metadata": {},
   "outputs": [
    {
     "output_type": "stream",
     "name": "stdout",
     "text": [
      "Class:  ['Idle' 'Cursor' 'Scroll' 'LeftMouseDown']\n"
     ]
    }
   ],
   "source": [
    "label = df['Class']\n",
    "features = df.drop('Class', axis=1)\n",
    "\n",
    "print('Class: ',label.unique())\n"
   ]
  },
  {
   "cell_type": "code",
   "execution_count": 5,
   "metadata": {},
   "outputs": [
    {
     "output_type": "stream",
     "name": "stdout",
     "text": [
      "Class:  ['Idle' 'Cursor' 'Scroll' 'LeftMouseDown' 'LeftMouseDoubleClick']\n"
     ]
    }
   ],
   "source": []
  },
  {
   "cell_type": "code",
   "execution_count": 30,
   "metadata": {},
   "outputs": [
    {
     "output_type": "execute_result",
     "data": {
      "text/plain": [
       "         x0        y0        z0        x1        y1        z1        x2  \\\n",
       "0  0.383673  0.789544  0.157909  0.347281  0.731616  0.146323  0.331492   \n",
       "1  0.422877  0.783666  0.156733  0.378466  0.724329  0.144866  0.347201   \n",
       "2  0.435217  0.756256  0.151251  0.391306  0.701590  0.140318  0.364045   \n",
       "3  0.459191  0.730218  0.146044  0.415594  0.670124  0.134025  0.389204   \n",
       "4  0.472732  0.701545  0.140309  0.430766  0.638887  0.127777  0.404721   \n",
       "\n",
       "         y2        z2        x3  ...       xz7       x18       y18       xz8  \\\n",
       "0  0.674784  0.134957  0.315926  ...  0.143623  0.460164  0.688000  0.137600   \n",
       "1  0.649369  0.129874  0.330535  ...  0.131323  0.477847  0.608840  0.121768   \n",
       "2  0.630506  0.126101  0.352160  ...  0.125642  0.494621  0.585169  0.117034   \n",
       "3  0.601788  0.120358  0.375124  ...  0.115045  0.514042  0.542152  0.108430   \n",
       "4  0.572033  0.114407  0.389569  ...  0.109061  0.533203  0.517448  0.103490   \n",
       "\n",
       "        x19       y19       xz9       x20       y20     xz0.1  \n",
       "0  0.455306  0.689306  0.137861  0.447209  0.697019  0.139404  \n",
       "1  0.486682  0.577556  0.115511  0.492570  0.555745  0.111149  \n",
       "2  0.507475  0.552459  0.110492  0.517274  0.527063  0.105413  \n",
       "3  0.520657  0.512985  0.102597  0.523252  0.486472  0.097294  \n",
       "4  0.541626  0.492723  0.098545  0.547938  0.471482  0.094296  \n",
       "\n",
       "[5 rows x 63 columns]"
      ],
      "text/html": "<div>\n<style scoped>\n    .dataframe tbody tr th:only-of-type {\n        vertical-align: middle;\n    }\n\n    .dataframe tbody tr th {\n        vertical-align: top;\n    }\n\n    .dataframe thead th {\n        text-align: right;\n    }\n</style>\n<table border=\"1\" class=\"dataframe\">\n  <thead>\n    <tr style=\"text-align: right;\">\n      <th></th>\n      <th>x0</th>\n      <th>y0</th>\n      <th>z0</th>\n      <th>x1</th>\n      <th>y1</th>\n      <th>z1</th>\n      <th>x2</th>\n      <th>y2</th>\n      <th>z2</th>\n      <th>x3</th>\n      <th>...</th>\n      <th>xz7</th>\n      <th>x18</th>\n      <th>y18</th>\n      <th>xz8</th>\n      <th>x19</th>\n      <th>y19</th>\n      <th>xz9</th>\n      <th>x20</th>\n      <th>y20</th>\n      <th>xz0.1</th>\n    </tr>\n  </thead>\n  <tbody>\n    <tr>\n      <th>0</th>\n      <td>0.383673</td>\n      <td>0.789544</td>\n      <td>0.157909</td>\n      <td>0.347281</td>\n      <td>0.731616</td>\n      <td>0.146323</td>\n      <td>0.331492</td>\n      <td>0.674784</td>\n      <td>0.134957</td>\n      <td>0.315926</td>\n      <td>...</td>\n      <td>0.143623</td>\n      <td>0.460164</td>\n      <td>0.688000</td>\n      <td>0.137600</td>\n      <td>0.455306</td>\n      <td>0.689306</td>\n      <td>0.137861</td>\n      <td>0.447209</td>\n      <td>0.697019</td>\n      <td>0.139404</td>\n    </tr>\n    <tr>\n      <th>1</th>\n      <td>0.422877</td>\n      <td>0.783666</td>\n      <td>0.156733</td>\n      <td>0.378466</td>\n      <td>0.724329</td>\n      <td>0.144866</td>\n      <td>0.347201</td>\n      <td>0.649369</td>\n      <td>0.129874</td>\n      <td>0.330535</td>\n      <td>...</td>\n      <td>0.131323</td>\n      <td>0.477847</td>\n      <td>0.608840</td>\n      <td>0.121768</td>\n      <td>0.486682</td>\n      <td>0.577556</td>\n      <td>0.115511</td>\n      <td>0.492570</td>\n      <td>0.555745</td>\n      <td>0.111149</td>\n    </tr>\n    <tr>\n      <th>2</th>\n      <td>0.435217</td>\n      <td>0.756256</td>\n      <td>0.151251</td>\n      <td>0.391306</td>\n      <td>0.701590</td>\n      <td>0.140318</td>\n      <td>0.364045</td>\n      <td>0.630506</td>\n      <td>0.126101</td>\n      <td>0.352160</td>\n      <td>...</td>\n      <td>0.125642</td>\n      <td>0.494621</td>\n      <td>0.585169</td>\n      <td>0.117034</td>\n      <td>0.507475</td>\n      <td>0.552459</td>\n      <td>0.110492</td>\n      <td>0.517274</td>\n      <td>0.527063</td>\n      <td>0.105413</td>\n    </tr>\n    <tr>\n      <th>3</th>\n      <td>0.459191</td>\n      <td>0.730218</td>\n      <td>0.146044</td>\n      <td>0.415594</td>\n      <td>0.670124</td>\n      <td>0.134025</td>\n      <td>0.389204</td>\n      <td>0.601788</td>\n      <td>0.120358</td>\n      <td>0.375124</td>\n      <td>...</td>\n      <td>0.115045</td>\n      <td>0.514042</td>\n      <td>0.542152</td>\n      <td>0.108430</td>\n      <td>0.520657</td>\n      <td>0.512985</td>\n      <td>0.102597</td>\n      <td>0.523252</td>\n      <td>0.486472</td>\n      <td>0.097294</td>\n    </tr>\n    <tr>\n      <th>4</th>\n      <td>0.472732</td>\n      <td>0.701545</td>\n      <td>0.140309</td>\n      <td>0.430766</td>\n      <td>0.638887</td>\n      <td>0.127777</td>\n      <td>0.404721</td>\n      <td>0.572033</td>\n      <td>0.114407</td>\n      <td>0.389569</td>\n      <td>...</td>\n      <td>0.109061</td>\n      <td>0.533203</td>\n      <td>0.517448</td>\n      <td>0.103490</td>\n      <td>0.541626</td>\n      <td>0.492723</td>\n      <td>0.098545</td>\n      <td>0.547938</td>\n      <td>0.471482</td>\n      <td>0.094296</td>\n    </tr>\n  </tbody>\n</table>\n<p>5 rows × 63 columns</p>\n</div>"
     },
     "metadata": {},
     "execution_count": 30
    }
   ],
   "source": [
    "features.head()"
   ]
  },
  {
   "cell_type": "code",
   "execution_count": 31,
   "metadata": {},
   "outputs": [],
   "source": [
    "x_train, x_test, y_train, y_test = train_test_split(features, label, test_size = 0.2)"
   ]
  },
  {
   "cell_type": "code",
   "execution_count": 32,
   "metadata": {},
   "outputs": [],
   "source": [
    "model_list = ['SVC', 'KNN', 'LR', 'DTC']"
   ]
  },
  {
   "cell_type": "code",
   "execution_count": 33,
   "metadata": {},
   "outputs": [],
   "source": [
    "handler = classification(model_list=model_list)"
   ]
  },
  {
   "cell_type": "code",
   "execution_count": 34,
   "metadata": {},
   "outputs": [
    {
     "output_type": "stream",
     "name": "stdout",
     "text": [
      "\n",
      "Model: SVC\n",
      "\n",
      "Prameters : {'C': 1, 'gamma': 'scale', 'kernel': 'poly'}\n",
      "Score : 0.9988472622478387\n",
      "\n",
      "0.364 (+/-0.181) for {'C': 0.001, 'gamma': 'scale', 'kernel': 'linear'}\n",
      "0.462 (+/-0.061) for {'C': 0.001, 'gamma': 'scale', 'kernel': 'poly'}\n",
      "0.379 (+/-0.197) for {'C': 0.001, 'gamma': 'scale', 'kernel': 'rbf'}\n",
      "0.364 (+/-0.181) for {'C': 0.001, 'gamma': 'auto', 'kernel': 'linear'}\n",
      "0.372 (+/-0.186) for {'C': 0.001, 'gamma': 'auto', 'kernel': 'poly'}\n",
      "0.364 (+/-0.181) for {'C': 0.001, 'gamma': 'auto', 'kernel': 'rbf'}\n",
      "0.364 (+/-0.181) for {'C': 0.01, 'gamma': 'scale', 'kernel': 'linear'}\n",
      "0.952 (+/-0.022) for {'C': 0.01, 'gamma': 'scale', 'kernel': 'poly'}\n",
      "0.379 (+/-0.197) for {'C': 0.01, 'gamma': 'scale', 'kernel': 'rbf'}\n",
      "0.364 (+/-0.181) for {'C': 0.01, 'gamma': 'auto', 'kernel': 'linear'}\n",
      "0.372 (+/-0.186) for {'C': 0.01, 'gamma': 'auto', 'kernel': 'poly'}\n",
      "0.364 (+/-0.181) for {'C': 0.01, 'gamma': 'auto', 'kernel': 'rbf'}\n",
      "0.417 (+/-0.092) for {'C': 0.1, 'gamma': 'scale', 'kernel': 'linear'}\n",
      "0.998 (+/-0.004) for {'C': 0.1, 'gamma': 'scale', 'kernel': 'poly'}\n",
      "0.893 (+/-0.025) for {'C': 0.1, 'gamma': 'scale', 'kernel': 'rbf'}\n",
      "0.417 (+/-0.092) for {'C': 0.1, 'gamma': 'auto', 'kernel': 'linear'}\n",
      "0.372 (+/-0.186) for {'C': 0.1, 'gamma': 'auto', 'kernel': 'poly'}\n",
      "0.364 (+/-0.181) for {'C': 0.1, 'gamma': 'auto', 'kernel': 'rbf'}\n",
      "0.941 (+/-0.018) for {'C': 1, 'gamma': 'scale', 'kernel': 'linear'}\n",
      "0.999 (+/-0.003) for {'C': 1, 'gamma': 'scale', 'kernel': 'poly'}\n",
      "0.997 (+/-0.004) for {'C': 1, 'gamma': 'scale', 'kernel': 'rbf'}\n",
      "0.941 (+/-0.018) for {'C': 1, 'gamma': 'auto', 'kernel': 'linear'}\n",
      "0.372 (+/-0.186) for {'C': 1, 'gamma': 'auto', 'kernel': 'poly'}\n",
      "0.364 (+/-0.181) for {'C': 1, 'gamma': 'auto', 'kernel': 'rbf'}\n",
      "\n",
      "####################\n",
      "\n",
      "Model: KNN\n",
      "\n",
      "Prameters : {'n_neighbors': 1, 'weights': 'uniform'}\n",
      "Score : 0.9988472622478387\n",
      "\n",
      "0.999 (+/-0.003) for {'n_neighbors': 1, 'weights': 'uniform'}\n",
      "0.999 (+/-0.003) for {'n_neighbors': 1, 'weights': 'distance'}\n",
      "0.998 (+/-0.003) for {'n_neighbors': 3, 'weights': 'uniform'}\n",
      "0.998 (+/-0.003) for {'n_neighbors': 3, 'weights': 'distance'}\n",
      "0.998 (+/-0.004) for {'n_neighbors': 5, 'weights': 'uniform'}\n",
      "0.998 (+/-0.004) for {'n_neighbors': 5, 'weights': 'distance'}\n",
      "0.997 (+/-0.005) for {'n_neighbors': 10, 'weights': 'uniform'}\n",
      "0.998 (+/-0.004) for {'n_neighbors': 10, 'weights': 'distance'}\n",
      "0.991 (+/-0.004) for {'n_neighbors': 20, 'weights': 'uniform'}\n",
      "0.995 (+/-0.006) for {'n_neighbors': 20, 'weights': 'distance'}\n",
      "\n",
      "####################\n",
      "\n",
      "Model: LR\n",
      "\n",
      "Prameters : {'C': 1}\n",
      "Score : 0.9475504322766571\n",
      "\n",
      "0.375 (+/-0.166) for {'C': 0.001}\n",
      "0.442 (+/-0.049) for {'C': 0.01}\n",
      "0.836 (+/-0.055) for {'C': 0.1}\n",
      "0.948 (+/-0.018) for {'C': 1}\n",
      "\n",
      "####################\n",
      "\n",
      "Model: DTC\n",
      "\n",
      "Prameters : {'criterion': 'gini', 'max_depth': 70}\n",
      "Score : 0.990778097982709\n",
      "\n",
      "0.987 (+/-0.014) for {'criterion': 'gini', 'max_depth': 10}\n",
      "0.987 (+/-0.017) for {'criterion': 'gini', 'max_depth': 20}\n",
      "0.988 (+/-0.015) for {'criterion': 'gini', 'max_depth': 50}\n",
      "0.991 (+/-0.007) for {'criterion': 'gini', 'max_depth': 70}\n",
      "0.990 (+/-0.012) for {'criterion': 'gini', 'max_depth': 100}\n",
      "0.987 (+/-0.009) for {'criterion': 'gini', 'max_depth': 150}\n",
      "0.987 (+/-0.013) for {'criterion': 'gini', 'max_depth': None}\n",
      "0.983 (+/-0.024) for {'criterion': 'entropy', 'max_depth': 10}\n",
      "0.982 (+/-0.028) for {'criterion': 'entropy', 'max_depth': 20}\n",
      "0.981 (+/-0.024) for {'criterion': 'entropy', 'max_depth': 50}\n",
      "0.982 (+/-0.026) for {'criterion': 'entropy', 'max_depth': 70}\n",
      "0.982 (+/-0.026) for {'criterion': 'entropy', 'max_depth': 100}\n",
      "0.982 (+/-0.024) for {'criterion': 'entropy', 'max_depth': 150}\n",
      "0.982 (+/-0.026) for {'criterion': 'entropy', 'max_depth': None}\n",
      "\n",
      "####################\n",
      "\n",
      "\n",
      "Final Accuracy\n",
      "{\n",
      "  \"SVC\": {\n",
      "    \"acc\": 0.9988472622478387,\n",
      "    \"mean_fit_time\": 0.18298586408297224,\n",
      "    \"mean_score_time\": 0.04673607349395751\n",
      "  },\n",
      "  \"KNN\": {\n",
      "    \"acc\": 0.9988472622478387,\n",
      "    \"mean_fit_time\": 0.0033045053482055665,\n",
      "    \"mean_score_time\": 0.027194819450378417\n",
      "  },\n",
      "  \"RF\": 0,\n",
      "  \"LR\": {\n",
      "    \"acc\": 0.9475504322766571,\n",
      "    \"mean_fit_time\": 0.07043631076812744,\n",
      "    \"mean_score_time\": 0.0013094186782836915\n",
      "  },\n",
      "  \"DTC\": {\n",
      "    \"acc\": 0.990778097982709,\n",
      "    \"mean_fit_time\": 0.07993795531136648,\n",
      "    \"mean_score_time\": 0.0013482332229614257\n",
      "  }\n",
      "}\n"
     ]
    }
   ],
   "source": [
    "handler.fit(x_train, y_train, True)"
   ]
  },
  {
   "cell_type": "code",
   "execution_count": 35,
   "metadata": {},
   "outputs": [
    {
     "output_type": "stream",
     "name": "stdout",
     "text": [
      "\n",
      "####################\n",
      "Model name : SVC\n",
      "####################\n",
      "\n",
      "               precision    recall  f1-score   support\n",
      "\n",
      "       Cursor       1.00      1.00      1.00       113\n",
      "         Idle       1.00      1.00      1.00       103\n",
      "LeftMouseDown       1.00      1.00      1.00       105\n",
      "       Scroll       1.00      1.00      1.00       113\n",
      "\n",
      "     accuracy                           1.00       434\n",
      "    macro avg       1.00      1.00      1.00       434\n",
      " weighted avg       1.00      1.00      1.00       434\n",
      "\n",
      "\n",
      "\n",
      "\n",
      "####################\n",
      "Model name : KNN\n",
      "####################\n",
      "\n",
      "               precision    recall  f1-score   support\n",
      "\n",
      "       Cursor       1.00      1.00      1.00       113\n",
      "         Idle       1.00      1.00      1.00       103\n",
      "LeftMouseDown       1.00      1.00      1.00       105\n",
      "       Scroll       1.00      1.00      1.00       113\n",
      "\n",
      "     accuracy                           1.00       434\n",
      "    macro avg       1.00      1.00      1.00       434\n",
      " weighted avg       1.00      1.00      1.00       434\n",
      "\n",
      "\n",
      "\n",
      "\n",
      "####################\n",
      "Model name : LR\n",
      "####################\n",
      "\n",
      "               precision    recall  f1-score   support\n",
      "\n",
      "       Cursor       1.00      0.98      0.99       113\n",
      "         Idle       1.00      0.90      0.95       103\n",
      "LeftMouseDown       0.90      1.00      0.95       105\n",
      "       Scroll       0.97      0.97      0.97       113\n",
      "\n",
      "     accuracy                           0.97       434\n",
      "    macro avg       0.97      0.96      0.96       434\n",
      " weighted avg       0.97      0.97      0.97       434\n",
      "\n",
      "\n",
      "\n",
      "\n",
      "####################\n",
      "Model name : DTC\n",
      "####################\n",
      "\n",
      "               precision    recall  f1-score   support\n",
      "\n",
      "       Cursor       0.99      0.98      0.99       113\n",
      "         Idle       0.99      0.97      0.98       103\n",
      "LeftMouseDown       0.95      0.97      0.96       105\n",
      "       Scroll       0.97      0.98      0.98       113\n",
      "\n",
      "     accuracy                           0.98       434\n",
      "    macro avg       0.98      0.98      0.98       434\n",
      " weighted avg       0.98      0.98      0.98       434\n",
      "\n",
      "\n",
      "\n"
     ]
    }
   ],
   "source": [
    "for model_name in handler.model_to_be_used:\n",
    "    if handler.model_to_be_used[model_name]:\n",
    "        handler.classification_report(model_name, x_test, y_test )\n",
    "        print()"
   ]
  },
  {
   "cell_type": "code",
   "execution_count": 38,
   "metadata": {},
   "outputs": [],
   "source": [
    "handler.save_model(\n",
    "    model_name='SVC',\n",
    "    model_file_name='handModel.pkl' \n",
    ")"
   ]
  },
  {
   "cell_type": "code",
   "execution_count": null,
   "metadata": {},
   "outputs": [],
   "source": []
  }
 ],
 "metadata": {
  "kernelspec": {
   "name": "python3",
   "display_name": "Python 3.7.10 64-bit ('gesture': conda)"
  },
  "language_info": {
   "codemirror_mode": {
    "name": "ipython",
    "version": 3
   },
   "file_extension": ".py",
   "mimetype": "text/x-python",
   "name": "python",
   "nbconvert_exporter": "python",
   "pygments_lexer": "ipython3",
   "version": "3.7.10"
  },
  "interpreter": {
   "hash": "92860b02218ae6a2a558da7ac415fa3649f4e582acb947211861f5ec41e32a05"
  }
 },
 "nbformat": 4,
 "nbformat_minor": 2
}